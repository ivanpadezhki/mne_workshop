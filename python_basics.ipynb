{
 "cells": [
  {
   "cell_type": "markdown",
   "metadata": {},
   "source": [
    "Welcome to a Jupyter notebook! This is a markdown field - here, you'll be seeing our comments and theoretical explanations. The markdown fields can be used also to structure your document"
   ]
  },
  {
   "cell_type": "code",
   "execution_count": null,
   "metadata": {},
   "outputs": [],
   "source": [
    "# And this is a code snippet that will be executed by the Python interpreter\n",
    "# when the script is run either by pressing the arrow button in the toolbar or\n",
    "# by pressing Ctrl+Enter."
   ]
  },
  {
   "cell_type": "markdown",
   "metadata": {},
   "source": [
    "We need to set an interpreter for python - the terminal helps us."
   ]
  },
  {
   "cell_type": "markdown",
   "metadata": {},
   "source": [
    "# Python Basics"
   ]
  },
  {
   "cell_type": "markdown",
   "metadata": {},
   "source": [
    "## Basic variable types"
   ]
  },
  {
   "cell_type": "code",
   "execution_count": null,
   "metadata": {},
   "outputs": [],
   "source": [
    "# This is how you define a variable in Python. You can assign a value to a\n",
    "# variable using the assignment operator `=`. The value can be of any type\n",
    "first_variable = 1\n",
    "second_variable = 'first_variable'\n",
    "third_variable = True\n",
    "fourth_variable = 1.0"
   ]
  },
  {
   "cell_type": "code",
   "execution_count": null,
   "metadata": {},
   "outputs": [],
   "source": [
    "first_variable"
   ]
  },
  {
   "cell_type": "code",
   "execution_count": null,
   "metadata": {},
   "outputs": [],
   "source": [
    "# This way we can see the type of each variable\n",
    "type(first_variable), type(second_variable), type(third_variable), type(fourth_variable)"
   ]
  },
  {
   "cell_type": "markdown",
   "metadata": {},
   "source": [
    "## Lists"
   ]
  },
  {
   "cell_type": "code",
   "execution_count": null,
   "metadata": {},
   "outputs": [],
   "source": [
    "first_list = [first_variable, second_variable, third_variable, fourth_variable]\n",
    "print(first_list)"
   ]
  },
  {
   "cell_type": "code",
   "execution_count": null,
   "metadata": {},
   "outputs": [],
   "source": [
    "first_list"
   ]
  },
  {
   "cell_type": "code",
   "execution_count": null,
   "metadata": {},
   "outputs": [],
   "source": [
    "fifth_variable = False\n",
    "first_list.append(fifth_variable)"
   ]
  },
  {
   "cell_type": "code",
   "execution_count": null,
   "metadata": {},
   "outputs": [],
   "source": [
    "first_list[0]"
   ]
  },
  {
   "cell_type": "code",
   "execution_count": null,
   "metadata": {},
   "outputs": [],
   "source": [
    "first_list[5]"
   ]
  },
  {
   "cell_type": "code",
   "execution_count": null,
   "metadata": {},
   "outputs": [],
   "source": [
    "first_list[-1]"
   ]
  },
  {
   "cell_type": "code",
   "execution_count": null,
   "metadata": {},
   "outputs": [],
   "source": [
    "# Little task - make the 'third_variable', so the one in position 2, equal to 'False' and print the list\n",
    "first_list[2] = False\n",
    "# Then compare if 'third_variable', so in position 2, equals 'fifth_variable', the one in last position, and print the resultpront\n",
    "print(first_list[2] == first_list[-1])"
   ]
  },
  {
   "cell_type": "code",
   "execution_count": null,
   "metadata": {},
   "outputs": [],
   "source": [
    "first_list"
   ]
  },
  {
   "cell_type": "markdown",
   "metadata": {},
   "source": [
    "## Dictionaries"
   ]
  },
  {
   "cell_type": "code",
   "execution_count": null,
   "metadata": {},
   "outputs": [],
   "source": [
    "# Simplest way to define a dictionary in Python is to use curly braces `{}`.\n",
    "first_dictionary = {\n",
    "    'first_key': 1,\n",
    "    'second_key': second_variable,\n",
    "    'third_key': third_variable,\n",
    "    'fourth_key': fourth_variable,\n",
    "    'fifth_key': fifth_variable,\n",
    "    'sixth_key': first_list\n",
    "}"
   ]
  },
  {
   "cell_type": "code",
   "execution_count": null,
   "metadata": {},
   "outputs": [],
   "source": [
    "# Unlike lists, dictionaries are not ordered, so you can't access elements by\n",
    "# index. Instead, you access elements by key.\n",
    "first_dictionary['first_key']"
   ]
  },
  {
   "cell_type": "code",
   "execution_count": null,
   "metadata": {},
   "outputs": [],
   "source": [
    "# If you don't remember the keys, you can get a list of them using the `keys()`\n",
    "# method.\n",
    "my_keys = first_dictionary.keys()"
   ]
  },
  {
   "cell_type": "code",
   "execution_count": null,
   "metadata": {},
   "outputs": [],
   "source": [
    "# You can also get a list of values using the `values()` method.\n",
    "first_dictionary.values()"
   ]
  },
  {
   "cell_type": "code",
   "execution_count": null,
   "metadata": {},
   "outputs": [],
   "source": [
    "# Adding a new key-value pair to the dictionary is done like assigning a new variable\n",
    "first_dictionary['seventh_key'] = 'new_value'\n",
    "first_dictionary"
   ]
  },
  {
   "cell_type": "code",
   "execution_count": null,
   "metadata": {},
   "outputs": [],
   "source": [
    "# Little task - make the 'third_key' equal to 'False' and print the dictionary\n",
    "first_dictionary['third_key'] = False\n",
    "first_dictionary"
   ]
  },
  {
   "cell_type": "markdown",
   "metadata": {},
   "source": [
    "## Control Flow"
   ]
  },
  {
   "cell_type": "code",
   "execution_count": null,
   "metadata": {},
   "outputs": [],
   "source": [
    "# An if-else statement is used to execute a block of code if a condition is\n",
    "# true. If the condition is false, the block of code inside the else statement\n",
    "# is executed\n",
    "threshold = 0.5\n",
    "score = 0.6\n",
    "if score > threshold:\n",
    "    print(\"Score is above threshold\")\n",
    "else:\n",
    "    print(\"Score is below threshold\")"
   ]
  },
  {
   "cell_type": "code",
   "execution_count": null,
   "metadata": {},
   "outputs": [],
   "source": [
    "# A for loop is used to iterate over a sequence (list, tuple, dictionary, set,\n",
    "# or string) and execute a block of code for each element in the sequence.\n",
    "scores = [0.4, 0.6, 0.8]\n",
    "threshold = 0.5\n",
    "for score in scores:\n",
    "    if score > threshold:\n",
    "        print(f\"{score} is above threshold\")\n",
    "    # finish the code with an else statement\n",
    "    "
   ]
  },
  {
   "cell_type": "code",
   "execution_count": null,
   "metadata": {},
   "outputs": [],
   "source": [
    "# We can use range() function to generate a sequence of numbers from 0 up to the number you specify.\n",
    "# The range() function takes three arguments: start, stop, and step.\n",
    "# start is optional and defaults to 0. Step is also optional and defaults to 1.\n",
    "for i in range(3):\n",
    "    print(i)"
   ]
  },
  {
   "cell_type": "code",
   "execution_count": null,
   "metadata": {},
   "outputs": [],
   "source": [
    "# Little task: A while loop is used to execute a block of code as long as a condition is true.\n",
    "# Define a variable score with an initial value of 0.4 and increment it by 0.1 until\n",
    "# it reaches a threshold of your choice. Print the score at each iteration.\n",
    "score = 0.4\n",
    "thresh = 0.8 # Define a threshold of choice\n",
    "while score < thresh:\n",
    "    score += 0.1\n",
    "    print(score)\n"
   ]
  },
  {
   "cell_type": "markdown",
   "metadata": {},
   "source": [
    "## Functions"
   ]
  },
  {
   "cell_type": "code",
   "execution_count": null,
   "metadata": {},
   "outputs": [],
   "source": [
    "# A function is a block of reusable code that is used to perform a specific task.\n",
    "# Functions are defined using the def keyword followed by the function name, a\n",
    "# list of parameters in parentheses, and a colon. The block of code inside the\n",
    "# function is indented.\n",
    "def calculate_average(scores):\n",
    "    return sum(scores) / len(scores)"
   ]
  },
  {
   "cell_type": "code",
   "execution_count": null,
   "metadata": {},
   "outputs": [],
   "source": [
    "# It is best practice to add a docstring to a function to describe what the\n",
    "# function does.\n",
    "def calculate_average(scores):\n",
    "    \"\"\"Calculates the average of a list of scores.\"\"\"\n",
    "    return sum(scores) / len(scores)"
   ]
  },
  {
   "cell_type": "code",
   "execution_count": null,
   "metadata": {},
   "outputs": [],
   "source": [
    "# This way you can learn about the function faster\n",
    "help(calculate_average)"
   ]
  },
  {
   "cell_type": "code",
   "execution_count": null,
   "metadata": {},
   "outputs": [],
   "source": [
    "def calculate_average(list_of_scores, factor=0.1):\n",
    "    \"\"\"Calculates the average of a list of scores.\n",
    "    - scores should be a list\n",
    "    - factor is a number that is added to the sum of scores\n",
    "    \"\"\"\n",
    "    result = sum(list_of_scores) / (len(list_of_scores) + factor)\n",
    "    return result"
   ]
  },
  {
   "cell_type": "code",
   "execution_count": null,
   "metadata": {},
   "outputs": [],
   "source": [
    "scores = [1, 2, 3, 4, 5]\n",
    "result_avg = calculate_average(scores)\n",
    "result_avg"
   ]
  },
  {
   "cell_type": "code",
   "execution_count": null,
   "metadata": {},
   "outputs": [],
   "source": [
    "# Little task: use the function, choosing a different factor than the default one\n",
    "\n",
    "# - first, define a list of scores of your choice of length - use integers or floats\n",
    "scores = [3,4,5]\n",
    "\n",
    "# then catch the output in a variable\n",
    "result_average = \n",
    "\n",
    "# print the result\n",
    "print(result_average)"
   ]
  },
  {
   "cell_type": "markdown",
   "metadata": {},
   "source": [
    "## NumPy"
   ]
  },
  {
   "cell_type": "code",
   "execution_count": null,
   "metadata": {},
   "outputs": [],
   "source": [
    "# New thing - Python is modular. You can import modules to use functions that are not built-in.\n",
    "import numpy as np"
   ]
  },
  {
   "cell_type": "code",
   "execution_count": null,
   "metadata": {},
   "outputs": [],
   "source": [
    "# We can create an array from a list\n",
    "data = np.array([1, 2, 3, 4])  # 1D array\n",
    "\n",
    "# Or we can use numpy functions to fill a specific shape with values\n",
    "matrix = np.zeros((2, 3))       # 2x3 array of zeros\n"
   ]
  },
  {
   "cell_type": "code",
   "execution_count": null,
   "metadata": {},
   "outputs": [],
   "source": [
    "matrix"
   ]
  },
  {
   "cell_type": "code",
   "execution_count": null,
   "metadata": {},
   "outputs": [],
   "source": [
    "print(f'First row of the matrix: {matrix[0, :]}')\n",
    "print(f'Second column of the matrix: {matrix[:, 1]}')\n"
   ]
  },
  {
   "cell_type": "code",
   "execution_count": null,
   "metadata": {},
   "outputs": [],
   "source": [
    "array1 = np.array([1, 2, 3])\n",
    "array2 = np.array([4, 5, 6])\n",
    "result = array1 + array2 # element-wise addition\n",
    "print(result)"
   ]
  },
  {
   "cell_type": "code",
   "execution_count": null,
   "metadata": {},
   "outputs": [],
   "source": [
    "# Broadcasting is a powerful mechanism that allows numpy \n",
    "# to work with arrays of different shapes when performing arithmetic operations.\n",
    "array1 = np.array([[1, 2, 3], [4, 5, 6]])\n",
    "array2 = np.array([1, 2, 3])\n",
    "result = array1 + array2\n",
    "print(result)"
   ]
  },
  {
   "cell_type": "code",
   "execution_count": null,
   "metadata": {},
   "outputs": [],
   "source": [
    "# Inspect features of the array\n",
    "len(result) # length of the array - number of rows"
   ]
  },
  {
   "cell_type": "code",
   "execution_count": null,
   "metadata": {},
   "outputs": [],
   "source": [
    "# Inspect features - number of elements and shape\n",
    "print(np.size(result)) # number of elements - different from \n",
    "print(np.shape(result))"
   ]
  },
  {
   "cell_type": "code",
   "execution_count": null,
   "metadata": {},
   "outputs": [],
   "source": [
    "# Reshape the matrix - first define it as a 1D array and then reshape it in 2 rows and 3 columns\n",
    "matrix = np.arange(6).reshape((2, 3))\n",
    "print(matrix)"
   ]
  },
  {
   "cell_type": "code",
   "execution_count": null,
   "metadata": {},
   "outputs": [],
   "source": [
    "# Operations on a matrix - first define it\n",
    "matrix = np.array([[1, 2], [3, 4]])\n",
    "# Transpose the matrix\n",
    "matrix_T = np.transpose(matrix) # a shortcut is matrix.T\n",
    "\n",
    "print(matrix_T)"
   ]
  },
  {
   "cell_type": "code",
   "execution_count": null,
   "metadata": {},
   "outputs": [],
   "source": [
    "# Dot product of two matrices\n",
    "matrix1 = np.array([[1, 2], [3, 4]])\n",
    "matrix2 = np.array([[5, 6], [7, 8]])\n",
    "# Compute dot product\n",
    "result = np.dot(matrix1, matrix2) # a shortcut is matrix1 @ matrix2\n",
    "print(result)"
   ]
  },
  {
   "cell_type": "code",
   "execution_count": null,
   "metadata": {},
   "outputs": [],
   "source": [
    "# Boolean indexing\n",
    "scores = np.array([0.4, 0.6, 0.8])\n",
    "threshold = 0.5 # Use this to find data above this threshold\n",
    "high_scores = scores[scores > threshold]  # Selects values above 0.5\n",
    "print(high_scores)"
   ]
  },
  {
   "cell_type": "code",
   "execution_count": null,
   "metadata": {},
   "outputs": [],
   "source": [
    "# Let's see how we can differentiate between deep and shallow copies\n",
    "# Shallow copy\n",
    "array1 = np.array([1, 2, 3])\n",
    "array2 = array1\n",
    "array2[0] = 100\n",
    "print(array1[0]) # What do you expect?\n"
   ]
  },
  {
   "cell_type": "code",
   "execution_count": null,
   "metadata": {},
   "outputs": [],
   "source": [
    "# Deep copy of an array\n",
    "array1 = np.array([1, 2, 3])\n",
    "array2 = array1.copy()\n",
    "array2[0] = 0\n",
    "print(array1[0]) # What do you expect?"
   ]
  },
  {
   "cell_type": "markdown",
   "metadata": {},
   "source": [
    "## Pandas"
   ]
  },
  {
   "cell_type": "code",
   "execution_count": null,
   "metadata": {},
   "outputs": [],
   "source": [
    "# First we need to import the library\n",
    "import pandas as pd"
   ]
  },
  {
   "cell_type": "code",
   "execution_count": null,
   "metadata": {},
   "outputs": [],
   "source": [
    "# One way to create a DataFrame is to use a dictionary\n",
    "data = {'Event_Type': ['Cue', 'Target', 'Target', 'Cue', 'Target'],\n",
    "        'Condition': ['Valid', 'Invalid', 'Valid', 'Invalid', 'Valid'],\n",
    "        'Accuracy': [True, False, True, False, True],\n",
    "        'RT': [300, 350, 320, 400, 290]}\n",
    "\n",
    "# This Pandas function will create a DataFrame from the dictionary\n",
    "df = pd.DataFrame(data)\n",
    "print(df)"
   ]
  },
  {
   "cell_type": "code",
   "execution_count": null,
   "metadata": {},
   "outputs": [],
   "source": [
    "# Access a column\n",
    "print(df['RT'])\n",
    "\n",
    "# Access a row: two ways\n",
    "print(df.iloc[1]) # Gets rows by index/ location - second row"
   ]
  },
  {
   "cell_type": "code",
   "execution_count": null,
   "metadata": {},
   "outputs": [],
   "source": [
    "print(df.loc[0]) # Labels - first row, (row with label 0)"
   ]
  },
  {
   "cell_type": "code",
   "execution_count": null,
   "metadata": {},
   "outputs": [],
   "source": [
    "# Add a new column\n",
    "df['Subject'] = 'S1'\n",
    "print(df)"
   ]
  },
  {
   "cell_type": "code",
   "execution_count": null,
   "metadata": {},
   "outputs": [],
   "source": [
    "# Filter rows using boolean indexing\n",
    "valid_trials = df[df['Condition'] == 'Valid'] # Selects rows where the condition is 'Valid'\n",
    "print(valid_trials)"
   ]
  },
  {
   "cell_type": "markdown",
   "metadata": {},
   "source": [
    "# Basics implemented in MNE"
   ]
  },
  {
   "cell_type": "code",
   "execution_count": null,
   "metadata": {},
   "outputs": [],
   "source": [
    "import mne # Import the MNE library\n",
    "import numpy as np"
   ]
  },
  {
   "cell_type": "code",
   "execution_count": null,
   "metadata": {},
   "outputs": [],
   "source": [
    "# Define where the data will be downloaded - use the sample dataset\n",
    "sample_data_folder = mne.datasets.sample.data_path()\n",
    "sample_data_raw_file = (\n",
    "    sample_data_folder / \"MEG\" / \"sample\" / \"sample_audvis_filt-0-40_raw.fif\"\n",
    ")\n",
    "# Read in raw data\n",
    "raw = mne.io.read_raw_fif(sample_data_raw_file)\n",
    "# Select only the EEG channels\n",
    "raw_eeg = raw.pick_types(meg=False, eeg=True, stim=True, exclude=[])"
   ]
  },
  {
   "cell_type": "markdown",
   "metadata": {},
   "source": [
    "Use an if statement to check for specific conditions within EEG data, like verifying if the sampling frequency is above a certain threshold."
   ]
  },
  {
   "cell_type": "code",
   "execution_count": null,
   "metadata": {},
   "outputs": [],
   "source": []
  },
  {
   "cell_type": "code",
   "execution_count": null,
   "metadata": {},
   "outputs": [],
   "source": [
    "# Example for using a function in MNE\n",
    "if raw.info['sfreq'] > 100: # Access the sampling rate as a key in the dictionary and compare it to 100\n",
    "    print(\"High sampling rate detected!\") # Print a message if the condition is true\n",
    "else:\n",
    "    print(\"Sampling rate under 100Hz!\")"
   ]
  },
  {
   "cell_type": "code",
   "execution_count": null,
   "metadata": {},
   "outputs": [],
   "source": [
    "# Example for both a dictionary and a list in MNE\n",
    "raw_eeg.info['bads'] = ['EEG 053']  # Mark bad channels"
   ]
  },
  {
   "cell_type": "code",
   "execution_count": null,
   "metadata": {},
   "outputs": [],
   "source": [
    "raw_eeg.info['bads']"
   ]
  },
  {
   "cell_type": "markdown",
   "metadata": {},
   "source": [
    "Loop over epochs or events to print details or extract specific information."
   ]
  },
  {
   "cell_type": "code",
   "execution_count": null,
   "metadata": {},
   "outputs": [],
   "source": [
    "# This function finds event data in the EEG data - example of a function in MNE\n",
    "events = mne.find_events(raw_eeg)\n",
    "# Example of a loop in MNE\n",
    "for event in events:\n",
    "    print(f\"Event at sample {event[0]} with ID {event[2]}\")\n"
   ]
  },
  {
   "cell_type": "markdown",
   "metadata": {},
   "source": [
    "Convert MNE data to a NumPy array for custom analysis."
   ]
  },
  {
   "cell_type": "code",
   "execution_count": null,
   "metadata": {},
   "outputs": [],
   "source": [
    "# Create epochs from the raw data\n",
    "eeg_data_array = raw_eeg.get_data()\n",
    "# Print the type of the object\n",
    "print(f'MNE uses {type(eeg_data_array)} to store the data')\n",
    "# Take a look at the shape of the data\n",
    "print(f'It has shape {eeg_data_array.shape} meaning channels X samples')\n",
    "# Take a look at the first 10 samples of the last channel\n",
    "print(eeg_data_array[-1, 0:10])"
   ]
  },
  {
   "cell_type": "code",
   "execution_count": null,
   "metadata": {},
   "outputs": [],
   "source": [
    "# Event names and their corresponding IDs are stored in a dictionary\n",
    "event_dict = {\n",
    "    \"auditory/left\": 1,\n",
    "    \"auditory/right\": 2,\n",
    "    \"visual/left\": 3,\n",
    "    \"visual/right\": 4,\n",
    "    \"smiley\": 5,\n",
    "    \"buttonpress\": 32,\n",
    "}\n",
    "\n",
    "# If we want to select epochs based on a condition, we can use the `selection` parameter\n",
    "# Which is a dictionary with the condition as key and the list of values as value\n",
    "reject_criteria = dict(\n",
    "    eeg=150e-6,  # 150 µV\n",
    ") \n",
    "\n",
    "# Create epochs from the raw data\n",
    "epochs = mne.Epochs(\n",
    "    raw_eeg,\n",
    "    events,\n",
    "    event_id=event_dict,\n",
    "    tmin=-0.2,\n",
    "    tmax=0.5,\n",
    "    reject=reject_criteria,\n",
    "    preload=True,\n",
    ")\n"
   ]
  },
  {
   "cell_type": "code",
   "execution_count": null,
   "metadata": {},
   "outputs": [],
   "source": [
    "# We can also visualize the raw data to inspect it\n",
    "raw_eeg.plot()"
   ]
  },
  {
   "cell_type": "code",
   "execution_count": null,
   "metadata": {},
   "outputs": [],
   "source": []
  },
  {
   "cell_type": "code",
   "execution_count": null,
   "metadata": {},
   "outputs": [],
   "source": [
    "raw_eeg.annotations[1]"
   ]
  },
  {
   "cell_type": "code",
   "execution_count": null,
   "metadata": {},
   "outputs": [],
   "source": [
    "# Save annotations to a file\n",
    "raw_eeg.annotations.save('annotations.csv')"
   ]
  },
  {
   "cell_type": "markdown",
   "metadata": {},
   "source": [
    "## Metadata - Bonus exercises on manipulating Pandas DataFrames"
   ]
  },
  {
   "cell_type": "code",
   "execution_count": null,
   "metadata": {},
   "outputs": [],
   "source": [
    "kiloword_data_folder = mne.datasets.kiloword.data_path()\n",
    "kiloword_data_file = kiloword_data_folder / \"kword_metadata-epo.fif\"\n",
    "epochs = mne.read_epochs(kiloword_data_file)"
   ]
  },
  {
   "cell_type": "code",
   "execution_count": null,
   "metadata": {},
   "outputs": [],
   "source": [
    "epochs.metadata"
   ]
  },
  {
   "cell_type": "code",
   "execution_count": null,
   "metadata": {},
   "outputs": [],
   "source": [
    "# Selecting data from the metadata\n",
    "\n",
    "print(\"Name-based selection with .loc\")\n",
    "print(epochs.metadata.loc[2:4])\n",
    "\n",
    "print(\"\\nIndex-based selection with .iloc\")\n",
    "print(epochs.metadata.iloc[2:4])"
   ]
  },
  {
   "cell_type": "code",
   "execution_count": null,
   "metadata": {},
   "outputs": [],
   "source": [
    "# Check a column\n",
    "print(epochs.metadata[\"NumberOfLetters\"].head())"
   ]
  },
  {
   "cell_type": "code",
   "execution_count": null,
   "metadata": {},
   "outputs": [],
   "source": [
    "# Modify the data - convert the column data to integer\n",
    "epochs.metadata[\"NumberOfLetters\"] = epochs.metadata[\"NumberOfLetters\"].astype(int)\n",
    "print(epochs.metadata[\"NumberOfLetters\"].head())"
   ]
  },
  {
   "cell_type": "code",
   "execution_count": null,
   "metadata": {},
   "outputs": [],
   "source": [
    "# Add a new column - one that informs you about groups\n",
    "# of high versus low visual complexity\n",
    "epochs.metadata[\"HighComplexity\"] = epochs.metadata[\"VisualComplexity\"] > 5\n",
    "epochs.metadata.head()"
   ]
  },
  {
   "cell_type": "markdown",
   "metadata": {},
   "source": [
    "Exercise: Perform row selection based on the metadata. Get rows with more than 6 letters \n",
    "Remember from Pandas - the way you select rows from a dataframe is:\n",
    "\n",
    "valid_trials = df[df['Condition'] == 'Valid']\n",
    "print(valid_trials)"
   ]
  },
  {
   "cell_type": "code",
   "execution_count": null,
   "metadata": {},
   "outputs": [],
   "source": [
    "# First element: access the NumberOfLetters column in the metadata\n",
    "# Second element: boolean indexing to select only the rows where the number of letters is greater than 6\n",
    "# Third element\n",
    "epochs.metadata[epochs.metadata[\"NumberOfLetters\"] > 6]"
   ]
  },
  {
   "cell_type": "code",
   "execution_count": null,
   "metadata": {},
   "outputs": [],
   "source": [
    "# Now select the epochs based on the metadata - trials with words longer than 6 letters \n",
    "# epochs_long_words = epochs[epochs.metadata[\"NumberOfLetters\"] > 6]\n",
    "# print(epochs_long_words)"
   ]
  },
  {
   "cell_type": "markdown",
   "metadata": {},
   "source": [
    "# Preprocessing 1"
   ]
  },
  {
   "cell_type": "markdown",
   "metadata": {},
   "source": [
    "Let's begin by reading in our dataset. "
   ]
  },
  {
   "cell_type": "code",
   "execution_count": null,
   "metadata": {},
   "outputs": [],
   "source": [
    "import mne\n",
    "import os\n",
    "import numpy as np"
   ]
  },
  {
   "cell_type": "code",
   "execution_count": null,
   "metadata": {},
   "outputs": [],
   "source": [
    "# Define where the data will be downloaded - use the sample dataset\n",
    "sample_data_folder = mne.datasets.sample.data_path()\n",
    "sample_data_raw_file = os.path.join( # The os library is used to join the path with the file name\n",
    "    sample_data_folder, \"MEG\", \"sample\", \"sample_audvis_raw.fif\" # This time we use the raw data\n",
    ")\n",
    "\n",
    "# Read in raw data - we make a call to mne.io.read_raw_fif function - one of the many import functions in MNE\n",
    "raw = mne.io.read_raw_fif(sample_data_raw_file)\n",
    "\n",
    "# Select only the EEG channels - this dataset also contains MEG data and other stuff we don't care about\n",
    "raw_eeg = raw.pick_types(meg=False, eeg=True, stim=True, exclude=[]) #exclude is a list of channels to remove"
   ]
  },
  {
   "cell_type": "markdown",
   "metadata": {},
   "source": [
    "### Basic structures, features and visualisations of the data"
   ]
  },
  {
   "cell_type": "code",
   "execution_count": null,
   "metadata": {},
   "outputs": [],
   "source": [
    "print(raw_eeg) # gives us the information about the data"
   ]
  },
  {
   "cell_type": "markdown",
   "metadata": {},
   "source": [
    "As you see, ' data is not loaded ' in memory. This is the default for these .read_raw_ functions. \n",
    "- we can pass a parameter preload=True\n",
    "- or we can work on the data until a function needs the data in memory, then we use raw_eeg.load_data()"
   ]
  },
  {
   "cell_type": "code",
   "execution_count": null,
   "metadata": {},
   "outputs": [],
   "source": [
    "# We can check other things about the data: \n",
    "print(f\"The sampling frequency is {raw_eeg.info['sfreq']}\" ) # Sampling frequency\n",
    "# We can also check the channel names\n",
    "print(f\"The channel names are: {raw_eeg.ch_names}\") # This will print a list of channel names"
   ]
  },
  {
   "cell_type": "code",
   "execution_count": null,
   "metadata": {},
   "outputs": [],
   "source": [
    "# As well as the array of sample times in seconds\n",
    "print(f\"The sample times are: {raw_eeg.times}\") # This will print an array of samples"
   ]
  },
  {
   "cell_type": "code",
   "execution_count": null,
   "metadata": {},
   "outputs": [],
   "source": [
    "# Inspect the object itself\n",
    "raw_eeg"
   ]
  },
  {
   "cell_type": "markdown",
   "metadata": {},
   "source": [
    "Important note: Doing things with Raw objects does them actively on the object. For example:"
   ]
  },
  {
   "cell_type": "code",
   "execution_count": null,
   "metadata": {},
   "outputs": [],
   "source": [
    "# Let's check out if any channels have been marked as bad during data collection\n",
    "print(f\"Bad channels: {raw_eeg.info['bads']}\") # This will print a list of bad channels"
   ]
  },
  {
   "cell_type": "code",
   "execution_count": null,
   "metadata": {},
   "outputs": [],
   "source": [
    "# Now let's open the data in a window to see what it looks like\n",
    "raw_eeg.plot()"
   ]
  },
  {
   "cell_type": "code",
   "execution_count": null,
   "metadata": {},
   "outputs": [],
   "source": [
    "# Task: Check the list of bad channels again: \n"
   ]
  },
  {
   "cell_type": "markdown",
   "metadata": {},
   "source": [
    "So, if you don't want to end up having to reload your dta aevery time you want to try out some new analysis, \n",
    "you can copy the raw data into a new object"
   ]
  },
  {
   "cell_type": "code",
   "execution_count": null,
   "metadata": {},
   "outputs": [],
   "source": [
    "raw_temp = raw_eeg.copy() # Make a copy of the raw data\n",
    "\n",
    "# Select only the first 5 channels - using a new function, which is a method of the raw object\n",
    "raw_temp.pick_channels(raw_temp.ch_names[:5]) # Use a slice of a list to select the first 5 channels\n",
    "\n",
    "# Task: Now let's plot the temporary data again\n"
   ]
  },
  {
   "cell_type": "markdown",
   "metadata": {},
   "source": [
    "We can also select only certain periods of the data in case we want to focus on something specific (like the first block of an experiment)"
   ]
  },
  {
   "cell_type": "code",
   "execution_count": null,
   "metadata": {},
   "outputs": [],
   "source": [
    "# Copy the raw data and crop it:\n",
    "raw_selection = raw_eeg.copy().crop(tmin=0, tmax=60) # The parameters are in seconds\n",
    "print(raw_selection.times) # Check the times again to see that it crops to the closest sample"
   ]
  },
  {
   "cell_type": "markdown",
   "metadata": {},
   "source": [
    "Let's start exploring our data visually. But before, let's make it easier to explore by mapping event IDs to useful trial descriptors"
   ]
  },
  {
   "cell_type": "markdown",
   "metadata": {},
   "source": [
    "The visual interactive window allows you to annotate bad channels, create periods of data you wish to exclude from analyses, etc. \n",
    "These changes get stored in an Annotations object. Each annotation contains [onset, duration, description] under the hood."
   ]
  },
  {
   "cell_type": "code",
   "execution_count": null,
   "metadata": {},
   "outputs": [],
   "source": [
    "raw_eeg.plot() # Plot the original data and try to find muscle artifacts"
   ]
  },
  {
   "cell_type": "markdown",
   "metadata": {},
   "source": [
    "Automatic break detection"
   ]
  },
  {
   "cell_type": "code",
   "execution_count": null,
   "metadata": {},
   "outputs": [],
   "source": [
    "# This function finds event data in the EEG data\n",
    "events = mne.find_events(raw_eeg)\n",
    "\n",
    "# break annotation \n",
    "break_annots = mne.preprocessing.annotate_break(\n",
    "    raw=raw_eeg,\n",
    "    events=events,\n",
    "    min_break_duration=10, \n",
    "    t_start_after_previous=2,\n",
    "    t_stop_before_next=2\n",
    ")\n",
    "raw_eeg.set_annotations(raw_eeg.annotations + break_annots) # literally concatenate the annotations"
   ]
  },
  {
   "cell_type": "code",
   "execution_count": null,
   "metadata": {},
   "outputs": [],
   "source": [
    "raw_eeg.plot()"
   ]
  },
  {
   "cell_type": "markdown",
   "metadata": {},
   "source": [
    "Tip for later: you can save intermediate steps of your preprocessing - this helps with chunking of code.\n",
    "If later you want to only change 1 step of your preprocessing pipeline, you can import data or annotations up until that point."
   ]
  },
  {
   "cell_type": "code",
   "execution_count": null,
   "metadata": {},
   "outputs": [],
   "source": [
    "# We can store different versions of our annotations in a file\n",
    "raw.annotations.save(\"saved-annotations.csv\", overwrite=True)\n",
    "# Then access it again using the read_annotations function\n",
    "annot_from_file = mne.read_annotations(\"saved-annotations.csv\")\n",
    "# And assign it to the raw data\n",
    "raw_eeg.set_annotations(annot_from_file)"
   ]
  },
  {
   "cell_type": "markdown",
   "metadata": {},
   "source": [
    "### Bad channels\n"
   ]
  },
  {
   "cell_type": "markdown",
   "metadata": {},
   "source": [
    "There's a variety of ways to spot bad channels - we saw in the inspection of the raw data that EEG 053 does not pick up any signal. \n",
    "Another way to detect a dead channel or one that drifts a lot is to plot an epoch average of all channels:"
   ]
  },
  {
   "cell_type": "code",
   "execution_count": null,
   "metadata": {},
   "outputs": [],
   "source": [
    "# Let's copy the data\n",
    "raw2 = raw_eeg.copy()\n",
    "# Remove the annotations of bad channels from the copied data\n",
    "raw2.info[\"bads\"] = []\n",
    "# Find experimental events in the data to create epochs\n",
    "events = mne.find_events(raw2, stim_channel=\"STI 014\")\n",
    "# Chain the epoching and averaging functions to plot the data\n",
    "epochs = mne.Epochs(raw2, events=events)[\"2\"].average().plot()"
   ]
  },
  {
   "cell_type": "code",
   "execution_count": null,
   "metadata": {},
   "outputs": [],
   "source": [
    "# Now let's plot this without the bad channel\n",
    "raw2.info[\"bads\"] = [\"EEG 053\"]\n",
    "# Create epochs again\n",
    "events = mne.find_events(raw2, stim_channel=\"STI 014\")\n",
    "epochs = mne.Epochs(raw2, events=events)[\"2\"].average().plot()"
   ]
  },
  {
   "cell_type": "code",
   "execution_count": null,
   "metadata": {},
   "outputs": [],
   "source": [
    "# Plot EEG 053 - the channel that was marked as bad\n",
    "raw2.info[\"bads\"] = [] # first remove the bad channel, otherwise it won't plot\n",
    "epochs = mne.Epochs(raw2, events=events)[\"2\"].average().plot(picks=[\"EEG 053\"]) # pick it manually"
   ]
  },
  {
   "cell_type": "code",
   "execution_count": null,
   "metadata": {},
   "outputs": [],
   "source": [
    "raw2.info['bads'] = ['EEG 053'] # Mark the channel as bad"
   ]
  },
  {
   "cell_type": "code",
   "execution_count": null,
   "metadata": {},
   "outputs": [],
   "source": [
    "# Load only the eeg channels, we don't need to be distracted by the stim channels\n",
    "raw2.pick(picks=\"eeg\")\n",
    "# We need to load the data into memory to interpolate the bad channels\n",
    "raw2.load_data()\n",
    "# Interpolate the bad channels and store in new variable\n",
    "raw2_interp = raw2.copy().interpolate_bads(reset_bads=False) # reset_bads=True removes the bad channel flag\n",
    "\n",
    "# Plot a comparison of the original and interpolated signals\n",
    "for title, data in zip([\"orig.\", \"interp.\"], [raw2, raw2_interp]): # we didn't remove the bad channel to visualize it\n",
    "    with mne.viz.use_browser_backend(\"matplotlib\"):\n",
    "        fig = data.plot(butterfly=True, color=\"#00000022\", bad_color=\"r\")\n",
    "    fig.subplots_adjust(top=0.9)\n",
    "    fig.suptitle(title, size=\"xx-large\", weight=\"bold\")"
   ]
  },
  {
   "cell_type": "code",
   "execution_count": null,
   "metadata": {},
   "outputs": [],
   "source": [
    "raw2_interp.info['bads'] = [] # remove the bad channel flag "
   ]
  },
  {
   "cell_type": "code",
   "execution_count": null,
   "metadata": {},
   "outputs": [],
   "source": [
    "# We see that the experimental events don't span the full length of the data\n",
    "# We can create an automatic detector to annotate breaks or long periods without events\n"
   ]
  },
  {
   "cell_type": "markdown",
   "metadata": {},
   "source": [
    "### Filtering"
   ]
  },
  {
   "cell_type": "code",
   "execution_count": null,
   "metadata": {},
   "outputs": [],
   "source": [
    "for cutoff in (0.1, 0.2):\n",
    "    raw_highpass = raw2_interp.copy().filter(l_freq=cutoff, h_freq=None)\n",
    "    with mne.viz.use_browser_backend(\"matplotlib\"):\n",
    "        fig = raw_highpass.plot(\n",
    "            duration=15, proj=False, n_channels=len(raw.ch_names), remove_dc=False\n",
    "        )\n",
    "    fig.subplots_adjust(top=0.9)\n",
    "    fig.suptitle(f\"High-pass filtered at {cutoff} Hz\", size=\"xx-large\", weight=\"bold\")"
   ]
  },
  {
   "cell_type": "code",
   "execution_count": null,
   "metadata": {},
   "outputs": [],
   "source": [
    "filt_raw = raw2_interp.copy().filter(l_freq=1.0, h_freq=100)"
   ]
  },
  {
   "cell_type": "markdown",
   "metadata": {},
   "source": [
    "### ICA"
   ]
  },
  {
   "cell_type": "code",
   "execution_count": null,
   "metadata": {},
   "outputs": [],
   "source": [
    "ica = mne.preprocessing.ICA(n_components=15, max_iter=\"auto\", random_state=97)\n",
    "ica.fit(filt_raw)\n",
    "ica"
   ]
  },
  {
   "cell_type": "code",
   "execution_count": null,
   "metadata": {},
   "outputs": [],
   "source": [
    "ica.plot_sources(filt_raw, show_scrollbars=False)"
   ]
  },
  {
   "cell_type": "code",
   "execution_count": null,
   "metadata": {},
   "outputs": [],
   "source": [
    "ica.plot_components()"
   ]
  },
  {
   "cell_type": "code",
   "execution_count": null,
   "metadata": {},
   "outputs": [],
   "source": [
    "# blinks\n",
    "ica.plot_overlay(filt_raw, exclude=[0], picks=\"eeg\")"
   ]
  },
  {
   "cell_type": "code",
   "execution_count": null,
   "metadata": {},
   "outputs": [],
   "source": [
    "ica.plot_properties(filt_raw, picks=[0])"
   ]
  },
  {
   "cell_type": "code",
   "execution_count": null,
   "metadata": {},
   "outputs": [],
   "source": [
    "# ica.apply() changes the Raw object in-place, so let's make a copy first:\n",
    "reconst_raw = filt_raw.copy()\n",
    "ica.exclude = [0]\n",
    "ica.apply(reconst_raw)\n",
    "reconst_raw.plot()"
   ]
  },
  {
   "cell_type": "markdown",
   "metadata": {},
   "source": [
    "## Epoching"
   ]
  },
  {
   "cell_type": "code",
   "execution_count": null,
   "metadata": {},
   "outputs": [],
   "source": [
    "# Define the mapping between event names and IDs\n",
    "event_dict = {\n",
    "    \"auditory/left\": 1,\n",
    "    \"auditory/right\": 2,\n",
    "    \"visual/left\": 3,\n",
    "    \"visual/right\": 4,\n",
    "    \"smiley\": 5,\n",
    "    \"buttonpress\": 32,\n",
    "}\n",
    "\n",
    "# Plot the events in the data for the full course of the recording\n",
    "fig = mne.viz.plot_events(\n",
    "    events, sfreq=raw_eeg.info[\"sfreq\"], first_samp=raw_eeg.first_samp, event_id=event_dict\n",
    ")\n",
    "# Now let's plot the raw data with the events: \n",
    "reconst_raw.plot(\n",
    "    events=events,\n",
    "    event_color={1: \"r\", 2: \"g\", 3: \"b\", 4: \"m\", 5: \"y\", 32: \"k\"},\n",
    ")"
   ]
  },
  {
   "cell_type": "code",
   "execution_count": null,
   "metadata": {},
   "outputs": [],
   "source": [
    "# If we want to select epochs based on a condition, we can use the `selection` parameter\n",
    "# Which is a dictionary with the condition as key and the list of values as value\n",
    "reject_criteria = dict(\n",
    "    eeg=150e-6,  # 150 µV\n",
    ") \n",
    "\n",
    "# Create epochs from the raw data\n",
    "epochs = mne.Epochs(\n",
    "    reconst_raw, # raw data\n",
    "    events, # event data\n",
    "    event_id=event_dict, # dictionary with event names and their corresponding IDs\n",
    "    tmin=-0.2,\n",
    "    tmax=0.5, # 200ms before and 500ms after the event\n",
    "    reject=reject_criteria, # reject epochs based on the criteria - amplitude\n",
    "    baseline=(None, 0), # apply using pre-stim baseline period\n",
    "    preload=True, # put into memory\n",
    ")\n"
   ]
  },
  {
   "cell_type": "code",
   "execution_count": null,
   "metadata": {},
   "outputs": [],
   "source": [
    "# Select only the conditions we care about\n",
    "conds_we_care_about = [\"auditory/left\", \"auditory/right\", \"visual/left\", \"visual/right\"]\n",
    "# Equalize the number of epochs in each condition\n",
    "epochs.equalize_event_counts(conds_we_care_about, method='random', random_state=42)  # this operates in-place"
   ]
  },
  {
   "cell_type": "markdown",
   "metadata": {},
   "source": [
    "### Rereference to average"
   ]
  },
  {
   "cell_type": "code",
   "execution_count": null,
   "metadata": {},
   "outputs": [],
   "source": [
    "### Rereference to average\n",
    "# use the average of all channels as reference\n",
    "epochs_avg_ref = epochs.copy().set_eeg_reference(ref_channels=\"average\")\n",
    "epochs_avg_ref.plot()"
   ]
  },
  {
   "cell_type": "code",
   "execution_count": null,
   "metadata": {},
   "outputs": [],
   "source": [
    "# Get a contrast between auditory and visual conditions\n",
    "aud_epochs = epochs[\"auditory\"] # Selecting done by the event description (key in the event_dict)\n",
    "vis_epochs = epochs[\"visual\"]\n",
    "\n",
    "# Plot the data from the epochs - it is a 3D array\n",
    "aud_epochs.plot_image(picks=[\"EEG 053\", \"EEG 021\"])"
   ]
  },
  {
   "cell_type": "markdown",
   "metadata": {},
   "source": [
    "# ERPs"
   ]
  },
  {
   "cell_type": "code",
   "execution_count": null,
   "metadata": {},
   "outputs": [],
   "source": [
    "# Let's average the epochs for each condition\n",
    "l_aud = epochs[\"auditory/left\"].average()\n",
    "r_aud = epochs[\"auditory/right\"].average()\n",
    "l_vis = epochs[\"visual/left\"].average()\n",
    "r_vis = epochs[\"visual/right\"].average()"
   ]
  },
  {
   "cell_type": "code",
   "execution_count": null,
   "metadata": {},
   "outputs": [],
   "source": [
    "fig1 = l_vis.plot_joint(title=\"Visual Left Condition: Joint ERP and Topography\")\n",
    "fig2 = r_vis.plot_joint(title=\"Visual Right Condition: Joint ERP and Topography\")"
   ]
  },
  {
   "cell_type": "code",
   "execution_count": null,
   "metadata": {},
   "outputs": [],
   "source": [
    "# Let's compare the difference between two conditions using a seleciton of channels\n",
    "picks = ['EEG 010', 'EEG 011', 'EEG 012', 'EEG 013', 'EEG 014']\n",
    "evokeds = dict(\n",
    "    aud_left=list(epochs[\"auditory/left\"].iter_evoked()),\n",
    "    aud_right=list(epochs[\"auditory/right\"].iter_evoked()),\n",
    ")\n",
    "mne.viz.plot_compare_evokeds(evokeds, combine=\"mean\", picks=picks)"
   ]
  },
  {
   "cell_type": "code",
   "execution_count": null,
   "metadata": {},
   "outputs": [],
   "source": [
    "# Let's compare the difference between two conditions using a seleciton of channels\n",
    "picks = ['EEG 010', 'EEG 011', 'EEG 012', 'EEG 013', 'EEG 014']\n",
    "evokeds = dict(\n",
    "    vis_left=list(epochs[\"visual/left\"].iter_evoked()),\n",
    "    vis_right=list(epochs[\"visual/right\"].iter_evoked()),\n",
    ")\n",
    "mne.viz.plot_compare_evokeds(evokeds, combine=\"mean\", picks=picks)"
   ]
  },
  {
   "cell_type": "code",
   "execution_count": null,
   "metadata": {},
   "outputs": [],
   "source": [
    "raw.plot_sensors(show_names=True)"
   ]
  },
  {
   "cell_type": "code",
   "execution_count": null,
   "metadata": {},
   "outputs": [],
   "source": [
    "# Let's compare the difference between two conditions using a seleciton of channels\n",
    "picks = ['EEG 045', 'EEG 044', 'EEG 053', 'EEG 057', 'EEG 055', 'EEG 056', 'EEG 059','EEG 052', 'EEG 058' , 'EEG 060']\n",
    "evokeds = dict(\n",
    "    vis_left=list(epochs[\"visual/left\"].iter_evoked()),\n",
    "    vis_right=list(epochs[\"visual/right\"].iter_evoked()),\n",
    ")\n",
    "mne.viz.plot_compare_evokeds(evokeds, combine=\"mean\", picks=picks)"
   ]
  },
  {
   "cell_type": "code",
   "execution_count": null,
   "metadata": {},
   "outputs": [],
   "source": [
    "# Plot the subtracted difference: \n",
    "aud_minus_vis = mne.combine_evoked([l_vis, r_vis], weights=[1, -1])\n",
    "aud_minus_vis.plot_joint()"
   ]
  },
  {
   "cell_type": "markdown",
   "metadata": {},
   "source": [
    "# Time-Frequency Analyses"
   ]
  },
  {
   "cell_type": "code",
   "execution_count": null,
   "metadata": {},
   "outputs": [],
   "source": [
    "# Load raw data\n",
    "data_path = mne.datasets.ssvep.data_path()\n",
    "bids_fname = (\n",
    "    data_path / \"sub-02\" / \"ses-01\" / \"eeg\" / \"sub-02_ses-01_task-ssvep_eeg.vhdr\"\n",
    ")\n",
    "\n",
    "raw = mne.io.read_raw_brainvision(bids_fname, preload=True, verbose=False)\n",
    "raw.info[\"line_freq\"] = 50.0\n",
    "\n",
    "# Set montage\n",
    "montage = mne.channels.make_standard_montage(\"easycap-M1\")\n",
    "raw.set_montage(montage, verbose=False)\n",
    "\n",
    "# Set common average reference\n",
    "raw.set_eeg_reference(\"average\", projection=False, verbose=False)\n",
    "\n",
    "# Apply bandpass filter\n",
    "raw.filter(l_freq=0.1, h_freq=100, fir_design=\"firwin\", verbose=False)\n",
    "\n",
    "# Resample raw data\n",
    "raw.resample(sfreq=240, verbose=False)"
   ]
  },
  {
   "cell_type": "code",
   "execution_count": null,
   "metadata": {},
   "outputs": [],
   "source": [
    "raw.plot_psd()"
   ]
  },
  {
   "cell_type": "code",
   "execution_count": null,
   "metadata": {},
   "outputs": [],
   "source": [
    "raw.notch_filter(freqs=50, verbose=False)\n",
    "raw.plot_psd()\n"
   ]
  },
  {
   "cell_type": "code",
   "execution_count": null,
   "metadata": {},
   "outputs": [],
   "source": [
    "# Construct epochs\n",
    "raw.annotations.rename({\"Stimulus/S255\": \"12hz\", \"Stimulus/S155\": \"15hz\"})\n",
    "tmin, tmax = -1.0, 20.0  # in s\n",
    "baseline = None\n",
    "epochs = mne.Epochs(\n",
    "    raw,\n",
    "    event_id=[\"12hz\", \"15hz\"],\n",
    "    tmin=tmin,\n",
    "    tmax=tmax,\n",
    "    baseline=baseline,\n",
    "    verbose=True,\n",
    ")\n",
    "epochs"
   ]
  },
  {
   "cell_type": "code",
   "execution_count": null,
   "metadata": {},
   "outputs": [],
   "source": [
    "epochs.plot()"
   ]
  },
  {
   "cell_type": "code",
   "execution_count": null,
   "metadata": {},
   "outputs": [],
   "source": [
    "epochs.plot_psd()"
   ]
  },
  {
   "cell_type": "code",
   "execution_count": null,
   "metadata": {},
   "outputs": [],
   "source": [
    "epochs.plot_psd(fmin=0, fmax=20)"
   ]
  },
  {
   "cell_type": "code",
   "execution_count": null,
   "metadata": {},
   "outputs": [],
   "source": [
    "epochs_12hz = epochs[\"12hz\"]\n",
    "epochs_15hz = epochs[\"15hz\"]"
   ]
  },
  {
   "cell_type": "code",
   "execution_count": null,
   "metadata": {},
   "outputs": [],
   "source": [
    "frequencies = np.arange(3, 35, 1)\n",
    "power_12 = epochs_12hz.compute_tfr(\n",
    "    \"morlet\", n_cycles=8, return_itc=False, freqs=frequencies, average=True\n",
    ")\n",
    "\n",
    "frequencies = np.arange(3, 35, 1)\n",
    "power_15 = epochs_15hz.compute_tfr(\n",
    "    \"morlet\", n_cycles=8, return_itc=False, freqs=frequencies, average=True\n",
    ")\n",
    "\n",
    "power_difference = power_12 - power_15"
   ]
  },
  {
   "cell_type": "code",
   "execution_count": null,
   "metadata": {},
   "outputs": [],
   "source": [
    "roi_vis = [\n",
    "    \"Pz\",\n",
    "    \"P3\",\n",
    "    \"P4\",\n",
    "    \"PO9\",\n",
    "    \"PO10\",\n",
    "    \"Oz\",\n",
    "    \"O1\",\n",
    "    \"O2\",\n",
    "]\n",
    "power_difference_picks = power_difference.copy().pick_channels(roi_vis)\n",
    "power_difference_picks.shape"
   ]
  },
  {
   "cell_type": "code",
   "execution_count": null,
   "metadata": {},
   "outputs": [],
   "source": [
    "power_difference_picks.plot(title=\"12 Hz - 15 Hz\", tmin=0, tmax=20, combine=\"mean\")"
   ]
  },
  {
   "cell_type": "code",
   "execution_count": null,
   "metadata": {},
   "outputs": [],
   "source": [
    "epochs_12hz.plot_psd(fmin=0, fmax=20)"
   ]
  },
  {
   "cell_type": "code",
   "execution_count": null,
   "metadata": {},
   "outputs": [],
   "source": [
    "epochs_15hz.plot_psd(fmin=0, fmax=20)"
   ]
  },
  {
   "cell_type": "markdown",
   "metadata": {},
   "source": [
    "# Source Estimation\n",
    "\n",
    "https://mne.tools/stable/auto_tutorials/intro/10_overview.html#sphx-glr-auto-tutorials-intro-10-overview-py"
   ]
  },
  {
   "cell_type": "code",
   "execution_count": null,
   "metadata": {},
   "outputs": [],
   "source": [
    "# load inverse operator\n",
    "inverse_operator_file = (\n",
    "sample_data_folder / \"MEG\" / \"sample\" / \"sample_audvis-meg-oct-6-meg-inv.fif\"\n",
    ")\n",
    "inv_operator = mne.minimum_norm.read_inverse_operator(inverse_operator_file)\n",
    "\n",
    "# set signal-to-noise ratio (SNR) to compute regularization parameter (λ²)\n",
    "snr = 3.0\n",
    "lambda2 = 1.0 / snr**2\n",
    "\n",
    "aud_evoked = aud_epochs.average()\n",
    "vis_evoked = vis_epochs.average()\n",
    "\n",
    "# generate the source time course (STC)\n",
    "stc = mne.minimum_norm.apply_inverse(vis_evoked, inv_operator, lambda2=lambda2, method=\"MNE\") # or dSPM, sLORETA, eLORETA\n",
    "\n",
    "# path to subjects' MRI files\n",
    "subjects_dir = sample_data_folder / \"subjects\"\n",
    "\n",
    "# plot the STC\n",
    "stc.plot(\n",
    "initial_time=0.1, hemi=\"split\", views=[\"lat\", \"med\"], subjects_dir=subjects_dir\n",
    ")"
   ]
  },
  {
   "cell_type": "markdown",
   "metadata": {},
   "source": [
    "# MNE-BIDS"
   ]
  },
  {
   "cell_type": "code",
   "execution_count": null,
   "metadata": {},
   "outputs": [],
   "source": [
    "# Standard library imports\n",
    "import os.path as op\n",
    "\n",
    "# Third-party imports\n",
    "import mne\n",
    "from mne.channels import make_standard_montage\n",
    "from mne_bids import BIDSPath, write_raw_bids\n",
    "\n",
    "# Subject number - CHANGE to the file you want to convert to bids\n",
    "sub_num = \"35\"\n",
    "data_path = \"directory\" # CHANGE to the path where the data is stored\n",
    "raw_fname = op.join(data_path, \"file name\") # CHANGE to the file name\n",
    "\n",
    "raw = mne.io.read_raw_brainvision(raw_fname)\n",
    "# Define the correct montage for the data available in MNE\n",
    "montage = make_standard_montage(\"standard_1005\")\n",
    "raw.set_montage(montage)\n",
    "\n",
    "# Check available event keys and if you need to make new ones \n",
    "events, _ = mne.events_from_annotations(raw, verbose=False)\n",
    "print(raw.annotations)\n",
    "\n",
    "# Define new keys for event IDs - these ones provide a more detailed description of the events\n",
    "mapping = {\n",
    "    # current\n",
    "    \"encoding/current/1\": 111,\n",
    "    \"encoding/current/2\": 121,\n",
    "    \"encoding/current/3\": 131,\n",
    "    \"encoding/current/4\": 141,\n",
    "    \n",
    "    # define others\n",
    "\t\n",
    "}\n",
    "\n",
    "# remove annotations so I can fill the event_id-s with descriptions\n",
    "raw.set_annotations(None)\n",
    "\n",
    "# set a new root path for the bidsyfied files\n",
    "new_path = \"new_directory\"\n",
    "# change subject number here:\n",
    "bids_root = op.join(new_path)\n",
    "\n",
    "# Datatype might also be inferred automatically, but it's safer to specify it\n",
    "bids_path = BIDSPath(\n",
    "    subject=sub_num,\n",
    "    datatype=\"eeg\", \n",
    "    task=\"instract\", \n",
    "    root=bids_root\n",
    ")\n",
    "# Add extensions to the path\n",
    "bids_path.update(suffix=\"eeg\", extension=\".vhdr\")\n",
    "# Power line frequency missing in raw.info\n",
    "raw.info[\"line_freq\"] = 50  # required by BIDS. 50Hz in Spain\n",
    "\n",
    "# Create bids structure for first participant\n",
    "write_raw_bids(\n",
    "    raw,\n",
    "    bids_path=bids_path,\n",
    "    events=events,\n",
    "    event_id=mapping,\n",
    "    overwrite=True,\n",
    "    verbose=True,\n",
    ")"
   ]
  }
 ],
 "metadata": {
  "kernelspec": {
   "display_name": "mne",
   "language": "python",
   "name": "python3"
  },
  "language_info": {
   "codemirror_mode": {
    "name": "ipython",
    "version": 3
   },
   "file_extension": ".py",
   "mimetype": "text/x-python",
   "name": "python",
   "nbconvert_exporter": "python",
   "pygments_lexer": "ipython3",
   "version": "3.11.6"
  }
 },
 "nbformat": 4,
 "nbformat_minor": 2
}
